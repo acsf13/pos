{
 "cells": [
  {
   "cell_type": "code",
   "execution_count": 2,
   "id": "67fa1903-541f-497c-930b-df5f06d2e8b6",
   "metadata": {},
   "outputs": [],
   "source": [
    "import pandas as pd\n",
    "from sklearn.preprocessing import StandardScaler\n",
    "from sklearn.cluster import KMeans\n",
    "from sklearn.metrics import silhouette_score\n",
    "import numpy as np\n",
    "import matplotlib.pyplot as plt"
   ]
  },
  {
   "cell_type": "code",
   "execution_count": 3,
   "id": "36357511",
   "metadata": {},
   "outputs": [],
   "source": [
    "# Carregar o dataset\n",
    "file_path = './Datasets/20241016 Gym Members Exercise Dataset/gym_members_exercise_tracking.csv'\n",
    "data = pd.read_csv(file_path)"
   ]
  },
  {
   "cell_type": "code",
   "execution_count": 4,
   "id": "4bd64d45",
   "metadata": {},
   "outputs": [],
   "source": [
    "# Para identificar atributos que podem não contribuir significativamente para o modelo, \n",
    "# vamos usar uma técnica de Seleção de Atributos. Aqui, utilizaremos a Correlação entre variáveis para identificar \n",
    "# aquelas que são menos correlacionadas com a variável-alvo \n",
    "# (neste caso, podemos definir como a coluna Calories_Burned)"
   ]
  },
  {
   "cell_type": "code",
   "execution_count": 5,
   "id": "4c92ddcf",
   "metadata": {},
   "outputs": [],
   "source": [
    "# Converter a coluna categórica 'Gender' em valores numéricos\n",
    "data['Gender'] = data['Gender'].map({'Male': 1, 'Female': 0})\n",
    "\n"
   ]
  },
  {
   "cell_type": "code",
   "execution_count": 6,
   "id": "c062f2b3",
   "metadata": {},
   "outputs": [
    {
     "data": {
      "text/plain": [
       "Calories_Burned                  1.000000\n",
       "Session_Duration (hours)         0.908140\n",
       "Experience_Level                 0.694129\n",
       "Workout_Frequency (days/week)    0.576150\n",
       "Water_Intake (liters)            0.356931\n",
       "Avg_BPM                          0.339659\n",
       "Gender                           0.150646\n",
       "Weight (kg)                      0.095443\n",
       "Height (m)                       0.086348\n",
       "BMI                              0.059761\n",
       "Workout_Type_HIIT                0.040550\n",
       "Resting_BPM                      0.016518\n",
       "Workout_Type_Strength            0.011629\n",
       "Max_BPM                          0.002090\n",
       "Workout_Type_Yoga               -0.004678\n",
       "Workout_Type_Cardio             -0.045726\n",
       "Age                             -0.154679\n",
       "Fat_Percentage                  -0.597615\n",
       "Name: Calories_Burned, dtype: float64"
      ]
     },
     "execution_count": 6,
     "metadata": {},
     "output_type": "execute_result"
    }
   ],
   "source": [
    "# Converter a coluna categórica 'Workout_Type' em valores numéricos usando codificação de variável fictícia (one-hot encoding)\n",
    "data_encoded = pd.get_dummies(data, columns=['Workout_Type'])\n",
    "\n",
    "# Recalcular a correlação novamente após tratar todas as colunas categóricas\n",
    "correlation = data_encoded.corr()\n",
    "correlation_with_target = correlation['Calories_Burned'].sort_values(ascending=False)\n",
    "correlation_with_target"
   ]
  },
  {
   "cell_type": "code",
   "execution_count": 7,
   "id": "4493a994",
   "metadata": {},
   "outputs": [],
   "source": [
    "# Os atributos com menor correlação com a variável Calories_Burned são:\n",
    "\n",
    "# Max_BPM (0.002)\n",
    "# Resting_BPM (0.017)\n",
    "# BMI (0.060)\n",
    "# Height (m) (0.086)\n",
    "# Esses atributos podem ter uma contribuição reduzida para a variável-alvo Calories_Burned. \n",
    "# Removendo esses atributos e re-treinando o algoritmo de agrupamento para avaliar o impacto."
   ]
  },
  {
   "cell_type": "code",
   "execution_count": 8,
   "id": "625abb94",
   "metadata": {},
   "outputs": [],
   "source": [
    "# Preparar os dados para clustering, removendo colunas categóricas e a variável alvo para facilitar a análise\n",
    "data_numerical = data.select_dtypes(include=['float64', 'int64']).drop(columns=['Calories_Burned'])"
   ]
  },
  {
   "cell_type": "code",
   "execution_count": 9,
   "id": "48c25ac6",
   "metadata": {},
   "outputs": [],
   "source": [
    "# Verificar valores ausentes ou inconsistentes no dataset\n",
    "data_encoded.replace([np.inf, -np.inf], np.nan, inplace=True)  # Substituir valores infinitos por NaN\n",
    "data_encoded.dropna(inplace=True)  # Remover linhas com NaN para garantir integridade dos dados"
   ]
  },
  {
   "cell_type": "code",
   "execution_count": 11,
   "id": "2850a604",
   "metadata": {},
   "outputs": [],
   "source": [
    "# Reconstruir 'data_reduced' com as colunas relevantes, removendo atributos de baixa correlação\n",
    "data_reduced = data_encoded.drop(columns=[\n",
    "    'Calories_Burned', 'Max_BPM', 'Resting_BPM', 'BMI', 'Height (m)', \n",
    "    'Workout_Type_Yoga', 'Workout_Type_Cardio'\n",
    "])"
   ]
  },
  {
   "cell_type": "code",
   "execution_count": 12,
   "id": "bce54c41",
   "metadata": {},
   "outputs": [],
   "source": [
    "# Redefinir o escalador e normalizar os dados reduzidos\n",
    "scaler = StandardScaler()\n",
    "data_reduced_scaled = scaler.fit_transform(data_reduced)"
   ]
  },
  {
   "cell_type": "code",
   "execution_count": 13,
   "id": "3054dfc5",
   "metadata": {},
   "outputs": [
    {
     "name": "stderr",
     "output_type": "stream",
     "text": [
      "C:\\Users\\acsfarias\\anaconda3\\Lib\\site-packages\\sklearn\\cluster\\_kmeans.py:1412: FutureWarning: The default value of `n_init` will change from 10 to 'auto' in 1.4. Set the value of `n_init` explicitly to suppress the warning\n",
      "  super()._check_params_vs_input(X, default_n_init=10)\n"
     ]
    }
   ],
   "source": [
    "# Configurar e executar o modelo K-Means\n",
    "kmeans_reduced = KMeans(n_clusters=3, random_state=42)\n",
    "clusters_reduced = kmeans_reduced.fit_predict(data_reduced_scaled)"
   ]
  },
  {
   "cell_type": "code",
   "execution_count": 14,
   "id": "48e5f783",
   "metadata": {},
   "outputs": [
    {
     "data": {
      "text/plain": [
       "0.2183534440760568"
      ]
     },
     "execution_count": 14,
     "metadata": {},
     "output_type": "execute_result"
    }
   ],
   "source": [
    "# Avaliar o modelo com o índice de silhueta\n",
    "silhouette_reduced = silhouette_score(data_reduced_scaled, clusters_reduced)\n",
    "silhouette_reduced"
   ]
  },
  {
   "cell_type": "code",
   "execution_count": null,
   "id": "254c0840",
   "metadata": {},
   "outputs": [],
   "source": [
    "# O índice de silhueta para o modelo K-Means com o dataset reduzido é 0.218, \n",
    "# o que representa uma leve melhoria em comparação com o índice original de 0.208.\n",
    "\n",
    "# Esse resultado indica que a remoção dos atributos de baixa correlação contribuiu \n",
    "# para uma qualidade de agrupamento ligeiramente melhor."
   ]
  }
 ],
 "metadata": {
  "kernelspec": {
   "display_name": "Python 3 (ipykernel)",
   "language": "python",
   "name": "python3"
  },
  "language_info": {
   "codemirror_mode": {
    "name": "ipython",
    "version": 3
   },
   "file_extension": ".py",
   "mimetype": "text/x-python",
   "name": "python",
   "nbconvert_exporter": "python",
   "pygments_lexer": "ipython3",
   "version": "3.11.5"
  }
 },
 "nbformat": 4,
 "nbformat_minor": 5
}

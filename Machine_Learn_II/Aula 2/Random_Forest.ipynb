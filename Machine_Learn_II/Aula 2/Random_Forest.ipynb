{
 "cells": [
  {
   "cell_type": "code",
   "execution_count": 1,
   "metadata": {
    "id": "3BANYNHBE8v5"
   },
   "outputs": [],
   "source": [
    "import pandas as pd\n",
    "import numpy as np"
   ]
  },
  {
   "cell_type": "markdown",
   "metadata": {
    "id": "dM99rHBnE8v9"
   },
   "source": [
    "## 1 - Carregando dataset 'Wine Quality'\n",
    "* Dados numéricos;\n",
    "* Não houve necessidade de fazer tratamento quanto a falta ou inconsistência nos dados;\n",
    "* 11 características e target sendo sobre a qualidade do vinho (0-qualidade ruim- até 10-Excelente qualidade-);\n",
    "* Não está balanceado (há mais vinhos normais do que excelentes ou ruins);\n",
    "\n"
   ]
  },
  {
   "cell_type": "markdown",
   "metadata": {
    "id": "TK-1WvdBE8v_"
   },
   "source": [
    "\n",
    "\n",
    "\n",
    "|nº| Atributo            | SI | Observação |\n",
    "|---|---------------------|----|------------|\n",
    "|01.| __Acidez fixa:__ | (g/dm³)| Formado pela acidez orgânica da uva (tartático) e da fermentação alcoólica.| \n",
    "|02.| __Acidez volátil:__ | (g/dm³) | Produzidos pelas reações químicas durante a maturação do vinho (Ácido Acético). A acidez volátil é um indicador da qualidade do vinho.| \n",
    "|03.| __Ácido cítrico:__ | (g/dm³) | Um dos ácidos orgânicos da uva.| \n",
    "|04.| __Açúcar residual:__ | (g/dm³)  | - | \n",
    "|05.| __Cloretos:__ | (g/dm³) | Cloreto de sódio | \n",
    "|06.| __Dióxido de enxofre livre:__  | (mg/dm³) | - | \n",
    "|07.| __Dióxido de enxofre total:__  | (mg/dm³) | - | \n",
    "|08.| __Densidade:__  | (g/cm³) | - | \n",
    "|09.| __pH:__ | [0,14] | - | \n",
    "|10.| __Sulfatos:__ | (g/dm³) | Sulfato de potássio | \n",
    "|11.| __Álcool:__ | - | - | \n",
    "|12.| __Qualidade:__ | (vol.%) | - |\n",
    "\n",
    "\n",
    "\n",
    "\n",
    "\n"
   ]
  },
  {
   "cell_type": "markdown",
   "metadata": {
    "id": "_x2uwxT3E8v_"
   },
   "source": [
    "### Vinho Branco"
   ]
  },
  {
   "cell_type": "code",
   "execution_count": 2,
   "metadata": {
    "id": "UvrwMWy-E8wA",
    "outputId": "65c16064-270b-4f86-94d5-5cba247e2901"
   },
   "outputs": [
    {
     "name": "stdout",
     "output_type": "stream",
     "text": [
      "Quantidade amostra =  4898\n"
     ]
    },
    {
     "data": {
      "text/html": [
       "<div>\n",
       "<style scoped>\n",
       "    .dataframe tbody tr th:only-of-type {\n",
       "        vertical-align: middle;\n",
       "    }\n",
       "\n",
       "    .dataframe tbody tr th {\n",
       "        vertical-align: top;\n",
       "    }\n",
       "\n",
       "    .dataframe thead th {\n",
       "        text-align: right;\n",
       "    }\n",
       "</style>\n",
       "<table border=\"1\" class=\"dataframe\">\n",
       "  <thead>\n",
       "    <tr style=\"text-align: right;\">\n",
       "      <th></th>\n",
       "      <th>fixed acidity</th>\n",
       "      <th>volatile acidity</th>\n",
       "      <th>citric acid</th>\n",
       "      <th>residual sugar</th>\n",
       "      <th>chlorides</th>\n",
       "      <th>free sulfur dioxide</th>\n",
       "      <th>total sulfur dioxide</th>\n",
       "      <th>density</th>\n",
       "      <th>pH</th>\n",
       "      <th>sulphates</th>\n",
       "      <th>alcohol</th>\n",
       "      <th>quality</th>\n",
       "    </tr>\n",
       "  </thead>\n",
       "  <tbody>\n",
       "    <tr>\n",
       "      <th>0</th>\n",
       "      <td>7.0</td>\n",
       "      <td>0.27</td>\n",
       "      <td>0.36</td>\n",
       "      <td>20.7</td>\n",
       "      <td>0.045</td>\n",
       "      <td>45.0</td>\n",
       "      <td>170.0</td>\n",
       "      <td>1.0010</td>\n",
       "      <td>3.00</td>\n",
       "      <td>0.45</td>\n",
       "      <td>8.8</td>\n",
       "      <td>6</td>\n",
       "    </tr>\n",
       "    <tr>\n",
       "      <th>1</th>\n",
       "      <td>6.3</td>\n",
       "      <td>0.30</td>\n",
       "      <td>0.34</td>\n",
       "      <td>1.6</td>\n",
       "      <td>0.049</td>\n",
       "      <td>14.0</td>\n",
       "      <td>132.0</td>\n",
       "      <td>0.9940</td>\n",
       "      <td>3.30</td>\n",
       "      <td>0.49</td>\n",
       "      <td>9.5</td>\n",
       "      <td>6</td>\n",
       "    </tr>\n",
       "    <tr>\n",
       "      <th>2</th>\n",
       "      <td>8.1</td>\n",
       "      <td>0.28</td>\n",
       "      <td>0.40</td>\n",
       "      <td>6.9</td>\n",
       "      <td>0.050</td>\n",
       "      <td>30.0</td>\n",
       "      <td>97.0</td>\n",
       "      <td>0.9951</td>\n",
       "      <td>3.26</td>\n",
       "      <td>0.44</td>\n",
       "      <td>10.1</td>\n",
       "      <td>6</td>\n",
       "    </tr>\n",
       "    <tr>\n",
       "      <th>3</th>\n",
       "      <td>7.2</td>\n",
       "      <td>0.23</td>\n",
       "      <td>0.32</td>\n",
       "      <td>8.5</td>\n",
       "      <td>0.058</td>\n",
       "      <td>47.0</td>\n",
       "      <td>186.0</td>\n",
       "      <td>0.9956</td>\n",
       "      <td>3.19</td>\n",
       "      <td>0.40</td>\n",
       "      <td>9.9</td>\n",
       "      <td>6</td>\n",
       "    </tr>\n",
       "    <tr>\n",
       "      <th>4</th>\n",
       "      <td>7.2</td>\n",
       "      <td>0.23</td>\n",
       "      <td>0.32</td>\n",
       "      <td>8.5</td>\n",
       "      <td>0.058</td>\n",
       "      <td>47.0</td>\n",
       "      <td>186.0</td>\n",
       "      <td>0.9956</td>\n",
       "      <td>3.19</td>\n",
       "      <td>0.40</td>\n",
       "      <td>9.9</td>\n",
       "      <td>6</td>\n",
       "    </tr>\n",
       "    <tr>\n",
       "      <th>5</th>\n",
       "      <td>8.1</td>\n",
       "      <td>0.28</td>\n",
       "      <td>0.40</td>\n",
       "      <td>6.9</td>\n",
       "      <td>0.050</td>\n",
       "      <td>30.0</td>\n",
       "      <td>97.0</td>\n",
       "      <td>0.9951</td>\n",
       "      <td>3.26</td>\n",
       "      <td>0.44</td>\n",
       "      <td>10.1</td>\n",
       "      <td>6</td>\n",
       "    </tr>\n",
       "    <tr>\n",
       "      <th>6</th>\n",
       "      <td>6.2</td>\n",
       "      <td>0.32</td>\n",
       "      <td>0.16</td>\n",
       "      <td>7.0</td>\n",
       "      <td>0.045</td>\n",
       "      <td>30.0</td>\n",
       "      <td>136.0</td>\n",
       "      <td>0.9949</td>\n",
       "      <td>3.18</td>\n",
       "      <td>0.47</td>\n",
       "      <td>9.6</td>\n",
       "      <td>6</td>\n",
       "    </tr>\n",
       "    <tr>\n",
       "      <th>7</th>\n",
       "      <td>7.0</td>\n",
       "      <td>0.27</td>\n",
       "      <td>0.36</td>\n",
       "      <td>20.7</td>\n",
       "      <td>0.045</td>\n",
       "      <td>45.0</td>\n",
       "      <td>170.0</td>\n",
       "      <td>1.0010</td>\n",
       "      <td>3.00</td>\n",
       "      <td>0.45</td>\n",
       "      <td>8.8</td>\n",
       "      <td>6</td>\n",
       "    </tr>\n",
       "    <tr>\n",
       "      <th>8</th>\n",
       "      <td>6.3</td>\n",
       "      <td>0.30</td>\n",
       "      <td>0.34</td>\n",
       "      <td>1.6</td>\n",
       "      <td>0.049</td>\n",
       "      <td>14.0</td>\n",
       "      <td>132.0</td>\n",
       "      <td>0.9940</td>\n",
       "      <td>3.30</td>\n",
       "      <td>0.49</td>\n",
       "      <td>9.5</td>\n",
       "      <td>6</td>\n",
       "    </tr>\n",
       "    <tr>\n",
       "      <th>9</th>\n",
       "      <td>8.1</td>\n",
       "      <td>0.22</td>\n",
       "      <td>0.43</td>\n",
       "      <td>1.5</td>\n",
       "      <td>0.044</td>\n",
       "      <td>28.0</td>\n",
       "      <td>129.0</td>\n",
       "      <td>0.9938</td>\n",
       "      <td>3.22</td>\n",
       "      <td>0.45</td>\n",
       "      <td>11.0</td>\n",
       "      <td>6</td>\n",
       "    </tr>\n",
       "  </tbody>\n",
       "</table>\n",
       "</div>"
      ],
      "text/plain": [
       "   fixed acidity  volatile acidity  citric acid  residual sugar  chlorides  \\\n",
       "0            7.0              0.27         0.36            20.7      0.045   \n",
       "1            6.3              0.30         0.34             1.6      0.049   \n",
       "2            8.1              0.28         0.40             6.9      0.050   \n",
       "3            7.2              0.23         0.32             8.5      0.058   \n",
       "4            7.2              0.23         0.32             8.5      0.058   \n",
       "5            8.1              0.28         0.40             6.9      0.050   \n",
       "6            6.2              0.32         0.16             7.0      0.045   \n",
       "7            7.0              0.27         0.36            20.7      0.045   \n",
       "8            6.3              0.30         0.34             1.6      0.049   \n",
       "9            8.1              0.22         0.43             1.5      0.044   \n",
       "\n",
       "   free sulfur dioxide  total sulfur dioxide  density    pH  sulphates  \\\n",
       "0                 45.0                 170.0   1.0010  3.00       0.45   \n",
       "1                 14.0                 132.0   0.9940  3.30       0.49   \n",
       "2                 30.0                  97.0   0.9951  3.26       0.44   \n",
       "3                 47.0                 186.0   0.9956  3.19       0.40   \n",
       "4                 47.0                 186.0   0.9956  3.19       0.40   \n",
       "5                 30.0                  97.0   0.9951  3.26       0.44   \n",
       "6                 30.0                 136.0   0.9949  3.18       0.47   \n",
       "7                 45.0                 170.0   1.0010  3.00       0.45   \n",
       "8                 14.0                 132.0   0.9940  3.30       0.49   \n",
       "9                 28.0                 129.0   0.9938  3.22       0.45   \n",
       "\n",
       "   alcohol  quality  \n",
       "0      8.8        6  \n",
       "1      9.5        6  \n",
       "2     10.1        6  \n",
       "3      9.9        6  \n",
       "4      9.9        6  \n",
       "5     10.1        6  \n",
       "6      9.6        6  \n",
       "7      8.8        6  \n",
       "8      9.5        6  \n",
       "9     11.0        6  "
      ]
     },
     "execution_count": 2,
     "metadata": {},
     "output_type": "execute_result"
    }
   ],
   "source": [
    "#Load Dataset\n",
    "df_white = pd.read_csv('./winequality-white.csv', sep = ';')\n",
    "#Count from a column to show the quantity once\n",
    "print(\"Quantidade amostra = \",df_white['quality'].count())\n",
    "#Show the first 10 lines\n",
    "df_white.head(n=10)"
   ]
  },
  {
   "cell_type": "code",
   "execution_count": 3,
   "metadata": {
    "id": "tAO8y4S_E8wD",
    "outputId": "e213dff8-809c-4700-abea-6020c39e8626"
   },
   "outputs": [
    {
     "data": {
      "text/html": [
       "<div>\n",
       "<style scoped>\n",
       "    .dataframe tbody tr th:only-of-type {\n",
       "        vertical-align: middle;\n",
       "    }\n",
       "\n",
       "    .dataframe tbody tr th {\n",
       "        vertical-align: top;\n",
       "    }\n",
       "\n",
       "    .dataframe thead th {\n",
       "        text-align: right;\n",
       "    }\n",
       "</style>\n",
       "<table border=\"1\" class=\"dataframe\">\n",
       "  <thead>\n",
       "    <tr style=\"text-align: right;\">\n",
       "      <th></th>\n",
       "      <th>fixed acidity</th>\n",
       "      <th>volatile acidity</th>\n",
       "      <th>citric acid</th>\n",
       "      <th>residual sugar</th>\n",
       "      <th>chlorides</th>\n",
       "      <th>free sulfur dioxide</th>\n",
       "      <th>total sulfur dioxide</th>\n",
       "      <th>density</th>\n",
       "      <th>pH</th>\n",
       "      <th>sulphates</th>\n",
       "      <th>alcohol</th>\n",
       "      <th>quality</th>\n",
       "    </tr>\n",
       "  </thead>\n",
       "  <tbody>\n",
       "    <tr>\n",
       "      <th>count</th>\n",
       "      <td>4898.00</td>\n",
       "      <td>4898.00</td>\n",
       "      <td>4898.00</td>\n",
       "      <td>4898.00</td>\n",
       "      <td>4898.00</td>\n",
       "      <td>4898.00</td>\n",
       "      <td>4898.00</td>\n",
       "      <td>4898.00</td>\n",
       "      <td>4898.00</td>\n",
       "      <td>4898.00</td>\n",
       "      <td>4898.00</td>\n",
       "      <td>4898.00</td>\n",
       "    </tr>\n",
       "    <tr>\n",
       "      <th>mean</th>\n",
       "      <td>6.85</td>\n",
       "      <td>0.28</td>\n",
       "      <td>0.33</td>\n",
       "      <td>6.39</td>\n",
       "      <td>0.05</td>\n",
       "      <td>35.31</td>\n",
       "      <td>138.36</td>\n",
       "      <td>0.99</td>\n",
       "      <td>3.19</td>\n",
       "      <td>0.49</td>\n",
       "      <td>10.51</td>\n",
       "      <td>5.88</td>\n",
       "    </tr>\n",
       "    <tr>\n",
       "      <th>std</th>\n",
       "      <td>0.84</td>\n",
       "      <td>0.10</td>\n",
       "      <td>0.12</td>\n",
       "      <td>5.07</td>\n",
       "      <td>0.02</td>\n",
       "      <td>17.01</td>\n",
       "      <td>42.50</td>\n",
       "      <td>0.00</td>\n",
       "      <td>0.15</td>\n",
       "      <td>0.11</td>\n",
       "      <td>1.23</td>\n",
       "      <td>0.89</td>\n",
       "    </tr>\n",
       "    <tr>\n",
       "      <th>min</th>\n",
       "      <td>3.80</td>\n",
       "      <td>0.08</td>\n",
       "      <td>0.00</td>\n",
       "      <td>0.60</td>\n",
       "      <td>0.01</td>\n",
       "      <td>2.00</td>\n",
       "      <td>9.00</td>\n",
       "      <td>0.99</td>\n",
       "      <td>2.72</td>\n",
       "      <td>0.22</td>\n",
       "      <td>8.00</td>\n",
       "      <td>3.00</td>\n",
       "    </tr>\n",
       "    <tr>\n",
       "      <th>25%</th>\n",
       "      <td>6.30</td>\n",
       "      <td>0.21</td>\n",
       "      <td>0.27</td>\n",
       "      <td>1.70</td>\n",
       "      <td>0.04</td>\n",
       "      <td>23.00</td>\n",
       "      <td>108.00</td>\n",
       "      <td>0.99</td>\n",
       "      <td>3.09</td>\n",
       "      <td>0.41</td>\n",
       "      <td>9.50</td>\n",
       "      <td>5.00</td>\n",
       "    </tr>\n",
       "    <tr>\n",
       "      <th>50%</th>\n",
       "      <td>6.80</td>\n",
       "      <td>0.26</td>\n",
       "      <td>0.32</td>\n",
       "      <td>5.20</td>\n",
       "      <td>0.04</td>\n",
       "      <td>34.00</td>\n",
       "      <td>134.00</td>\n",
       "      <td>0.99</td>\n",
       "      <td>3.18</td>\n",
       "      <td>0.47</td>\n",
       "      <td>10.40</td>\n",
       "      <td>6.00</td>\n",
       "    </tr>\n",
       "    <tr>\n",
       "      <th>75%</th>\n",
       "      <td>7.30</td>\n",
       "      <td>0.32</td>\n",
       "      <td>0.39</td>\n",
       "      <td>9.90</td>\n",
       "      <td>0.05</td>\n",
       "      <td>46.00</td>\n",
       "      <td>167.00</td>\n",
       "      <td>1.00</td>\n",
       "      <td>3.28</td>\n",
       "      <td>0.55</td>\n",
       "      <td>11.40</td>\n",
       "      <td>6.00</td>\n",
       "    </tr>\n",
       "    <tr>\n",
       "      <th>max</th>\n",
       "      <td>14.20</td>\n",
       "      <td>1.10</td>\n",
       "      <td>1.66</td>\n",
       "      <td>65.80</td>\n",
       "      <td>0.35</td>\n",
       "      <td>289.00</td>\n",
       "      <td>440.00</td>\n",
       "      <td>1.04</td>\n",
       "      <td>3.82</td>\n",
       "      <td>1.08</td>\n",
       "      <td>14.20</td>\n",
       "      <td>9.00</td>\n",
       "    </tr>\n",
       "  </tbody>\n",
       "</table>\n",
       "</div>"
      ],
      "text/plain": [
       "       fixed acidity  volatile acidity  citric acid  residual sugar  \\\n",
       "count        4898.00           4898.00      4898.00         4898.00   \n",
       "mean            6.85              0.28         0.33            6.39   \n",
       "std             0.84              0.10         0.12            5.07   \n",
       "min             3.80              0.08         0.00            0.60   \n",
       "25%             6.30              0.21         0.27            1.70   \n",
       "50%             6.80              0.26         0.32            5.20   \n",
       "75%             7.30              0.32         0.39            9.90   \n",
       "max            14.20              1.10         1.66           65.80   \n",
       "\n",
       "       chlorides  free sulfur dioxide  total sulfur dioxide  density      pH  \\\n",
       "count    4898.00              4898.00               4898.00  4898.00 4898.00   \n",
       "mean        0.05                35.31                138.36     0.99    3.19   \n",
       "std         0.02                17.01                 42.50     0.00    0.15   \n",
       "min         0.01                 2.00                  9.00     0.99    2.72   \n",
       "25%         0.04                23.00                108.00     0.99    3.09   \n",
       "50%         0.04                34.00                134.00     0.99    3.18   \n",
       "75%         0.05                46.00                167.00     1.00    3.28   \n",
       "max         0.35               289.00                440.00     1.04    3.82   \n",
       "\n",
       "       sulphates  alcohol  quality  \n",
       "count    4898.00  4898.00  4898.00  \n",
       "mean        0.49    10.51     5.88  \n",
       "std         0.11     1.23     0.89  \n",
       "min         0.22     8.00     3.00  \n",
       "25%         0.41     9.50     5.00  \n",
       "50%         0.47    10.40     6.00  \n",
       "75%         0.55    11.40     6.00  \n",
       "max         1.08    14.20     9.00  "
      ]
     },
     "execution_count": 3,
     "metadata": {},
     "output_type": "execute_result"
    }
   ],
   "source": [
    "#Display statistic with only 2 decimal digits\n",
    "pd.options.display.float_format = \"{:.2f}\".format\n",
    "df_white.describe()"
   ]
  },
  {
   "cell_type": "code",
   "execution_count": 4,
   "metadata": {
    "id": "VDke3O6CE8wD",
    "outputId": "4d6d593b-0c45-4a2f-e1a9-6e599546f78a"
   },
   "outputs": [
    {
     "data": {
      "text/plain": [
       "Text(0, 0.5, 'Frequência')"
      ]
     },
     "execution_count": 4,
     "metadata": {},
     "output_type": "execute_result"
    },
    {
     "data": {
      "image/png": "[encoded data removed]",
      "text/plain": [
       "<Figure size 1008x576 with 1 Axes>"
      ]
     },
     "metadata": {
      "needs_background": "light"
     },
     "output_type": "display_data"
    }
   ],
   "source": [
    "ax = df_white['quality'].value_counts().sort_index().plot.bar(\n",
    "                                    y = [0,1,2,3,4,5,6,7,8,9,10],\n",
    "                                    figsize=(14,8),\n",
    "                                    title=\"Quantidade de vinhos por qualidade\"\n",
    "                                    )\n",
    "ax.set_xlabel(\"Qualidade\")\n",
    "ax.set_ylabel(\"Frequência\")"
   ]
  },
  {
   "cell_type": "markdown",
   "metadata": {
    "id": "oKjThEUPE8wL"
   },
   "source": [
    "## Treinamento"
   ]
  },
  {
   "cell_type": "code",
   "execution_count": 5,
   "metadata": {
    "id": "ViSjFT7xE8wL"
   },
   "outputs": [],
   "source": [
    "from sklearn.model_selection import train_test_split"
   ]
  },
  {
   "cell_type": "code",
   "execution_count": 6,
   "metadata": {
    "id": "fO9TJPR8E8wM"
   },
   "outputs": [],
   "source": [
    "# Normalmente, em python, o X tem relação com o dataframe gerado e o 'y' com os valores em target\n",
    "X = df_white.iloc[:,:11]\n",
    "y = df_white['quality']#target\n",
    "#Split into test and train with 25% samples in test_size\n",
    "X_train, X_test, y_train, y_test = train_test_split(X, y, train_size = 0.75, random_state=1)"
   ]
  },
  {
   "cell_type": "markdown",
   "metadata": {
    "id": "SziTMsopE8wP"
   },
   "source": [
    "### Decision Tree\n",
    "> class sklearn.tree.DecisionTreeClassifier(**criterion**='gini', **splitter**='best', **max_depth**=None, **min_samples_split**=2, **min_samples_leaf**=1, **min_weight_fraction_leaf**=0.0, **max_features**=None, **random_state**=None, **max_leaf_nodes**=None, **min_impurity_decrease**=0.0, **min_impurity_split**=None, **class_weight**=None, **presort**='deprecated', **ccp_alpha**=0.0)"
   ]
  },
  {
   "cell_type": "code",
   "execution_count": 7,
   "metadata": {
    "id": "GaNsMI-0E8wQ"
   },
   "outputs": [],
   "source": [
    "from sklearn.tree import DecisionTreeClassifier\n",
    "#Range the depth of the tree (un-pruned and pruned)\n",
    "k_range = [None,2,3,4,5,6,7,8,9,10]\n",
    "dtc_list_predict = []\n",
    "for k in k_range :\n",
    "    dtc = DecisionTreeClassifier(max_depth = k,random_state = 1 )\n",
    "    dtc.fit(X_train,y_train)\n",
    "    #Armazena em um array para as predições\n",
    "    dtc_list_predict.append(dtc.predict(X_test))"
   ]
  },
  {
   "cell_type": "markdown",
   "metadata": {
    "id": "WH0uktCDE8wR"
   },
   "source": [
    "### Random Forest\n",
    "> class sklearn.ensemble.RandomForestClassifier(**n_estimators**=100, **criterion**='gini', **max_depth**=None, **min_samples_split**=2, **min_samples_leaf**=1, **min_weight_fraction_leaf**=0.0, **max_features**='auto', **max_leaf_nodes**=None, **min_impurity_decrease**=0.0, **min_impurity_split**=None, **bootstrap**=True, **oob_score**=False, **n_jobs**=None, **random_state**=None, **verbose**=0, **warm_start**=False, **class_weight**=None, **ccp_alpha**=0.0, **max_samples**=None)\n",
    "\n",
    "**n_estimators: Number of trees in the forest\n",
    "\n",
    "**max_depth: If None, then nodes are expanded until all leaves are pure or until all leaves contain less than min_samples_split samples\n",
    "\n",
    "**min_samples_split: The minimum number of samples required to split an internal node\n",
    "\n",
    "**min_samples_leaf: The minimum number of samples required to be at a leaf node\n",
    "\n",
    "**max_features: Grow trees with max_leaf_nodes in best-first fashion. Best nodes are defined as relative reduction in impurity. If None then unlimited number of leaf nodes.\n",
    "\n",
    "**bootstrap: Whether bootstrap samples are used when building trees. If False, the whole dataset is used to build each tree.\n",
    "\n",
    "**n_jobs: the number of jobs to run in parallel. None means 1 unless in a joblib.parallel_backend context. -1 means using all processors.\n",
    "\n",
    "**max_samples:If bootstrap is True, the number of samples to draw from X to train each base estimator."
   ]
  },
  {
   "cell_type": "code",
   "execution_count": 8,
   "metadata": {
    "id": "hIctBMieE8wR"
   },
   "outputs": [],
   "source": [
    "from sklearn.ensemble import RandomForestClassifier\n",
    "#Range the number of trees in the forest\n",
    "k_range = [100,200,300,400,500,600,700,800,900,1000]\n",
    "#Create a list of predictions for each number of trees in the forest\n",
    "rfc_list_predict = []\n",
    "for k in k_range:\n",
    "    rfc = RandomForestClassifier(n_estimators= k,n_jobs = -1,random_state = 1 )\n",
    "    rfc.fit(X_train,y_train)\n",
    "    rfc_list_predict.append(rfc.predict(X_test))"
   ]
  },
  {
   "cell_type": "markdown",
   "metadata": {
    "id": "2OeOB6zyE8wS"
   },
   "source": [
    "## Avaliação"
   ]
  },
  {
   "cell_type": "code",
   "execution_count": 9,
   "metadata": {},
   "outputs": [],
   "source": [
    "from sklearn.metrics import accuracy_score, confusion_matrix, precision_score, recall_score,f1_score\n",
    "metrics = [[[],[],[],[]], [[],[],[],[]]]"
   ]
  },
  {
   "cell_type": "markdown",
   "metadata": {},
   "source": [
    "## METRICS\n",
    "**average: {‘micro’, ‘macro’, ‘samples’, ‘weighted’, ‘binary’} default=’binary’\n",
    "    *** 'weighted':Calculate metrics for each label, and find their average weighted by support (the number of true instances for each label). This alters ‘macro’ to account for label imbalance; it can result in an F-score that is not between precision and recall.\n",
    "\n",
    "**zero_division:“warn”, 0 or 1, default=”warn”\n",
    "    ***Sets the value to return when there is a zero division. If set to “warn”, this acts as 0, but warnings are also raised.\n",
    "    "
   ]
  },
  {
   "cell_type": "markdown",
   "metadata": {
    "id": "ir-vRgzNE8wT"
   },
   "source": [
    "### Decision Tree"
   ]
  },
  {
   "cell_type": "code",
   "execution_count": 10,
   "metadata": {
    "id": "8qQL2c8AE8wU"
   },
   "outputs": [],
   "source": [
    "for i in range(0,len(dtc_list_predict)):\n",
    "    metrics[0][0].append(accuracy_score(y_test, dtc_list_predict[i]))\n",
    "    metrics[0][1].append(precision_score(y_test, dtc_list_predict[i], average = \"weighted\", zero_division = 1))\n",
    "    metrics[0][2].append(recall_score(y_test, dtc_list_predict[i], average = \"weighted\", zero_division = 1))\n",
    "    metrics[0][3].append(f1_score(y_test, dtc_list_predict[i], average = \"weighted\", zero_division = 1))\n"
   ]
  },
  {
   "cell_type": "markdown",
   "metadata": {
    "id": "Flxg3BxJE8wU"
   },
   "source": [
    "### Random Forest"
   ]
  },
  {
   "cell_type": "code",
   "execution_count": 11,
   "metadata": {
    "id": "NIqlMGZ8E8wU"
   },
   "outputs": [],
   "source": [
    "for i in range(0,len(rfc_list_predict)):\n",
    "    metrics[1][0].append(accuracy_score(y_test, rfc_list_predict[i]))\n",
    "    metrics[1][1].append(precision_score(y_test, rfc_list_predict[i], average = \"weighted\", zero_division = 1))\n",
    "    metrics[1][2].append(recall_score(y_test, rfc_list_predict[i], average = \"weighted\", zero_division = 1))\n",
    "    metrics[1][3].append(f1_score(y_test, rfc_list_predict[i], average = \"weighted\", zero_division = 1))\n"
   ]
  },
  {
   "cell_type": "markdown",
   "metadata": {
    "id": "OCO28QtFE8wV"
   },
   "source": [
    "### Plot"
   ]
  },
  {
   "cell_type": "code",
   "execution_count": 12,
   "metadata": {
    "id": "xcAawHdhE8wW",
    "outputId": "94c9cee3-a4eb-4cc6-cfbf-da845952148c"
   },
   "outputs": [
    {
     "name": "stdout",
     "output_type": "stream",
     "text": [
      "Matriz de confusão do Decision Tree com a(o) maior(o)  Acurácia\n",
      "[[  0   0   1   1   0   0]\n",
      " [  0   5  21  11   0   0]\n",
      " [  0   4 245 115   3   1]\n",
      " [  0   0  78 434  32   0]\n",
      " [  0   0   5  98 128   2]\n",
      " [  0   0   1  14  13  13]]\n",
      "Matriz de confusão do Decision Tree com a(o) menor(o)  Acurácia\n",
      "[[  0   0   1   1   0   0]\n",
      " [  0   7  20  10   0   0]\n",
      " [  0   4 243 120   1   0]\n",
      " [  0   0  76 436  32   0]\n",
      " [  0   0   5  97 129   2]\n",
      " [  0   0   1  15  12  13]]\n",
      "Matriz de confusão do Decision Tree com a(o) maior(o)  Precisão\n",
      "[[  0   0   1   1   0   0]\n",
      " [  0   5  21  11   0   0]\n",
      " [  0   4 245 115   3   1]\n",
      " [  0   0  78 434  32   0]\n",
      " [  0   0   5  98 128   2]\n",
      " [  0   0   1  14  13  13]]\n",
      "Matriz de confusão do Decision Tree com a(o) menor(o)  Precisão\n",
      "[[  0   0   1   1   0   0]\n",
      " [  0   7  20  10   0   0]\n",
      " [  0   4 240 122   2   0]\n",
      " [  0   0  72 440  32   0]\n",
      " [  0   0   5  96 130   2]\n",
      " [  0   0   1  13  13  14]]\n",
      "Matriz de confusão do Decision Tree com a(o) maior(o)  Recall\n",
      "[[  0   0   1   1   0   0]\n",
      " [  0   5  21  11   0   0]\n",
      " [  0   4 245 115   3   1]\n",
      " [  0   0  78 434  32   0]\n",
      " [  0   0   5  98 128   2]\n",
      " [  0   0   1  14  13  13]]\n",
      "Matriz de confusão do Decision Tree com a(o) menor(o)  Recall\n",
      "[[  0   0   1   1   0   0]\n",
      " [  0   7  20  10   0   0]\n",
      " [  0   4 243 120   1   0]\n",
      " [  0   0  76 436  32   0]\n",
      " [  0   0   5  97 129   2]\n",
      " [  0   0   1  15  12  13]]\n",
      "Matriz de confusão do Decision Tree com a(o) maior(o)  F1\n",
      "[[  0   0   1   1   0   0]\n",
      " [  0   5  21  11   0   0]\n",
      " [  0   4 245 115   3   1]\n",
      " [  0   0  78 434  32   0]\n",
      " [  0   0   5  98 128   2]\n",
      " [  0   0   1  14  13  13]]\n",
      "Matriz de confusão do Decision Tree com a(o) menor(o)  F1\n",
      "[[  0   0   1   1   0   0]\n",
      " [  0   7  20  10   0   0]\n",
      " [  0   4 243 120   1   0]\n",
      " [  0   0  76 436  32   0]\n",
      " [  0   0   5  97 129   2]\n",
      " [  0   0   1  15  12  13]]\n",
      "Matriz de confusão do Random Forest com a(o) maior(o)  Acurácia\n",
      "[[  0   0   1   1   0   0]\n",
      " [  0   6  21  10   0   0]\n",
      " [  0   4 241 122   1   0]\n",
      " [  0   0  69 447  28   0]\n",
      " [  0   0   5  97 130   1]\n",
      " [  0   0   1  14  12  14]]\n",
      "Matriz de confusão do Random Forest com a(o) menor(o)  Acurácia\n",
      "[[  0   0   1   1   0   0]\n",
      " [  0   5  21  11   0   0]\n",
      " [  0   4 245 115   3   1]\n",
      " [  0   0  78 434  32   0]\n",
      " [  0   0   5  98 128   2]\n",
      " [  0   0   1  14  13  13]]\n",
      "Matriz de confusão do Random Forest com a(o) maior(o)  Precisão\n",
      "[[  0   0   1   1   0   0]\n",
      " [  0   6  21  10   0   0]\n",
      " [  0   4 241 122   1   0]\n",
      " [  0   0  69 447  28   0]\n",
      " [  0   0   5  97 130   1]\n",
      " [  0   0   1  14  12  14]]\n",
      "Matriz de confusão do Random Forest com a(o) menor(o)  Precisão\n",
      "[[  0   0   1   1   0   0]\n",
      " [  0   5  21  11   0   0]\n",
      " [  0   4 245 115   3   1]\n",
      " [  0   0  78 434  32   0]\n",
      " [  0   0   5  98 128   2]\n",
      " [  0   0   1  14  13  13]]\n",
      "Matriz de confusão do Random Forest com a(o) maior(o)  Recall\n",
      "[[  0   0   1   1   0   0]\n",
      " [  0   6  21  10   0   0]\n",
      " [  0   4 241 122   1   0]\n",
      " [  0   0  69 447  28   0]\n",
      " [  0   0   5  97 130   1]\n",
      " [  0   0   1  14  12  14]]\n",
      "Matriz de confusão do Random Forest com a(o) menor(o)  Recall\n",
      "[[  0   0   1   1   0   0]\n",
      " [  0   5  21  11   0   0]\n",
      " [  0   4 245 115   3   1]\n",
      " [  0   0  78 434  32   0]\n",
      " [  0   0   5  98 128   2]\n",
      " [  0   0   1  14  13  13]]\n",
      "Matriz de confusão do Random Forest com a(o) maior(o)  F1\n",
      "[[  0   0   1   1   0   0]\n",
      " [  0   6  21  10   0   0]\n",
      " [  0   4 241 122   1   0]\n",
      " [  0   0  69 447  28   0]\n",
      " [  0   0   5  97 130   1]\n",
      " [  0   0   1  14  12  14]]\n",
      "Matriz de confusão do Random Forest com a(o) menor(o)  F1\n",
      "[[  0   0   1   1   0   0]\n",
      " [  0   5  21  11   0   0]\n",
      " [  0   4 245 115   3   1]\n",
      " [  0   0  78 434  32   0]\n",
      " [  0   0   5  98 128   2]\n",
      " [  0   0   1  14  13  13]]\n"
     ]
    }
   ],
   "source": [
    "import matplotlib.pyplot as plt \n",
    "labels = [\"Decision Tree\", \"Random Forest\"]\n",
    "metric = [\"Acurácia\", \"Precisão\", \"Recall\", \"F1\"]\n",
    "#Start the matrices with mininum and max values\n",
    "max_metrics = [[0.0, 0.0, 0.0, 0.0], [0.0, 0.0, 0.0, 0.0]]\n",
    "min_metrics = [[2.0, 2.0, 2.0, 2.0], [2.0, 2.0, 2.0, 2.0]]\n",
    "\n",
    "for i in range(len(labels)):\n",
    "    for l in range(0,len(rfc_list_predict)): #10 predictions for each classifier\n",
    "        for k in range(0,4): # find the maximum and minimum values for each metric and classifier\n",
    "            if (max_metrics[i][k] < metrics[i][k][l]):\n",
    "                max_metrics[i][k] = metrics[i][k][l]\n",
    "            if (min_metrics[i][k] > metrics[i][k][l]):\n",
    "                min_metrics[i][k] = metrics[i][k][l]\n",
    "#Print results\n",
    "for i in range(len(labels)):\n",
    "    for k in range(0,4):\n",
    "        print(\"Matriz de confusão do\", labels[i], \"com a(o) maior(o) \", metric[k])\n",
    "        rfc_conf_matrix = confusion_matrix(y_test, rfc_list_predict[metrics[i][k].index(max_metrics[i][k])])\n",
    "        print(rfc_conf_matrix)\n",
    "        print(\"Matriz de confusão do\", labels[i], \"com a(o) menor(o) \", metric[k])\n",
    "        rfc_conf_matrix = confusion_matrix(y_test, rfc_list_predict[metrics[i][k].index(min_metrics[i][k])])\n",
    "        print(rfc_conf_matrix)"
   ]
  },
  {
   "cell_type": "code",
   "execution_count": 13,
   "metadata": {
    "id": "aRTAEZbTE8wX",
    "outputId": "e9e3ceeb-5359-4b34-eb31-0268b99a0a8c"
   },
   "outputs": [
    {
     "data": {
      "image/png": "[encoded data removed]",
      "text/plain": [
       "<Figure size 1080x1440 with 2 Axes>"
      ]
     },
     "metadata": {
      "needs_background": "light"
     },
     "output_type": "display_data"
    }
   ],
   "source": [
    "#Plot the metrics in a graph\n",
    "import matplotlib.pyplot as plt \n",
    "plt.rcParams['figure.figsize'] = [15, 20]\n",
    "\n",
    "for i in range(len(labels)):\n",
    "    plt.subplot(311+i)\n",
    "    plt.plot(np.arange(len(metrics[i][0])).tolist(), metrics[i][0], 'kD--', label = \"Acurracy Score\")\n",
    "    plt.plot(np.arange(len(metrics[i][0])).tolist(), metrics[i][1], 'bs--', label = \"Precision Score\")\n",
    "    plt.plot(np.arange(len(metrics[i][0])).tolist(), metrics[i][2], 'g^--', label = \"Recall Score\")\n",
    "    plt.plot(np.arange(len(metrics[i][0])).tolist(), metrics[i][3], 'ro--', label = \"F1 Score\")\n",
    "    plt.axis([0, len(k_range)-1, 0.4, 0.75])\n",
    "    plt.ylabel(labels[i])\n",
    "    plt.grid(\"on\")\n",
    "plt.legend()\n",
    "plt.suptitle(\"Métricas\")\n",
    "plt.show()"
   ]
  },
  {
   "cell_type": "markdown",
   "metadata": {
    "id": "SAAbxGz7E8wX"
   },
   "source": [
    "## GridSearchCV\n",
    "> class sklearn.model_selection.GridSearchCV(**estimator**, **param_grid**, **scoring**=None, **n_jobs**=None, **iid**='deprecated', **refit**=True, **cv**=None, **verbose**=0, **pre_dispatch**='2 * n_jobs', **error_score**=nan, **return_train_score**=False)"
   ]
  },
  {
   "cell_type": "code",
   "execution_count": 14,
   "metadata": {
    "id": "d6EhCPLjE8wX",
    "outputId": "9dca5e9a-543e-4fe3-f766-b63b7df0755d",
    "scrolled": true
   },
   "outputs": [
    {
     "name": "stdout",
     "output_type": "stream",
     "text": [
      "Fitting 3 folds for each of 432 candidates, totalling 1296 fits\n",
      "Melhores parametros = \n",
      " {'criterion': 'entropy', 'max_depth': 95, 'max_features': 5, 'min_samples_leaf': 3, 'min_samples_split': 8, 'n_estimators': 1000}\n",
      "\n",
      "Melhor pontuação: \n",
      " 0.6321777599928861\n"
     ]
    }
   ],
   "source": [
    "#GridSearch is used to tune the hyper-parameters for the classifier\n",
    "#Take time - around 50 minutes\n",
    "from sklearn.model_selection import GridSearchCV\n",
    "param_grid = {\n",
    "    'criterion':['gini','entropy'],\n",
    "    'max_depth': [80,95,110],\n",
    "    'max_features': [ 3, 5],\n",
    "    'min_samples_leaf': [3, 5],\n",
    "    'min_samples_split': [8, 9,10],\n",
    "    'n_estimators': [100,200,300,500,800,1000] #number of forests\n",
    "}\n",
    "rfc = RandomForestClassifier()\n",
    "\n",
    "grid_search = GridSearchCV(estimator = rfc, param_grid = param_grid, \n",
    "                          cv = 3, n_jobs = -1, verbose = 2, refit = 'TRUE')\n",
    "grid_search.fit(X_train, y_train)\n",
    "\n",
    "print('Melhores parametros = \\n',grid_search.best_params_)\n",
    "print('\\nMelhor pontuação: \\n',grid_search.best_score_)"
   ]
  },
  {
   "cell_type": "code",
   "execution_count": 15,
   "metadata": {
    "id": "CcPILRqeE8wZ",
    "outputId": "ed8642de-97d4-487b-8b0c-23895f202963"
   },
   "outputs": [
    {
     "name": "stdout",
     "output_type": "stream",
     "text": [
      "                      importance\n",
      "alcohol                     0.16\n",
      "volatile acidity            0.11\n",
      "free sulfur dioxide         0.10\n",
      "density                     0.10\n",
      "pH                          0.08\n",
      "total sulfur dioxide        0.08\n",
      "residual sugar              0.08\n",
      "chlorides                   0.08\n",
      "citric acid                 0.07\n",
      "fixed acidity               0.07\n",
      "sulphates                   0.07\n"
     ]
    }
   ],
   "source": [
    "feature_importantes = pd.DataFrame(grid_search.best_estimator_.feature_importances_,\n",
    "                                   index = X_train.columns,\n",
    "                                    columns=['importance']).sort_values('importance', ascending=False)\n",
    "print(feature_importantes)"
   ]
  },
  {
   "cell_type": "code",
   "execution_count": null,
   "metadata": {},
   "outputs": [],
   "source": []
  }
 ],
 "metadata": {
  "colab": {
   "name": "Random Forest.ipynb",
   "provenance": []
  },
  "kernelspec": {
   "display_name": "Python 3 (ipykernel)",
   "language": "python",
   "name": "python3"
  },
  "language_info": {
   "codemirror_mode": {
    "name": "ipython",
    "version": 3
   },
   "file_extension": ".py",
   "mimetype": "text/x-python",
   "name": "python",
   "nbconvert_exporter": "python",
   "pygments_lexer": "ipython3",
   "version": "3.8.5"
  }
 },
 "nbformat": 4,
 "nbformat_minor": 1
}

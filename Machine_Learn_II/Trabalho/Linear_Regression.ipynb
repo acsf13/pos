{
 "cells": [
  {
   "cell_type": "code",
   "execution_count": 1,
   "metadata": {},
   "outputs": [],
   "source": [
    "import numpy as np\n",
    "import pandas as pd\n",
    "import matplotlib.pyplot as plt\n",
    "%matplotlib inline"
   ]
  },
  {
   "cell_type": "markdown",
   "metadata": {},
   "source": [
    "## 1 - Carregando dataset da bolsa de valores da Petrobras\n",
    "* Data set da Bolsa de valores da Petrobas de 2010 a 2017\n",
    "* Date - dia\n",
    "* Open - O valor de abertura da ação no dia\n",
    "* High - Valor máximo que a ação chegou no dia\n",
    "* Low - Valor mínimo da ação no dia\n",
    "* Close - Preço de fechamento no dia\n",
    "* Adj Close - Preço de fechamento no dia após ser contabilização as ações corporativas\n",
    "* Volume - Volume negociado no dia"
   ]
  },
  {
   "cell_type": "code",
   "execution_count": 2,
   "metadata": {},
   "outputs": [
    {
     "data": {
      "text/html": [
       "<div>\n",
       "<style scoped>\n",
       "    .dataframe tbody tr th:only-of-type {\n",
       "        vertical-align: middle;\n",
       "    }\n",
       "\n",
       "    .dataframe tbody tr th {\n",
       "        vertical-align: top;\n",
       "    }\n",
       "\n",
       "    .dataframe thead th {\n",
       "        text-align: right;\n",
       "    }\n",
       "</style>\n",
       "<table border=\"1\" class=\"dataframe\">\n",
       "  <thead>\n",
       "    <tr style=\"text-align: right;\">\n",
       "      <th></th>\n",
       "      <th>Date</th>\n",
       "      <th>Open</th>\n",
       "      <th>High</th>\n",
       "      <th>Low</th>\n",
       "      <th>Close</th>\n",
       "      <th>AdjClose</th>\n",
       "      <th>Volume</th>\n",
       "    </tr>\n",
       "  </thead>\n",
       "  <tbody>\n",
       "    <tr>\n",
       "      <th>0</th>\n",
       "      <td>2017-07-03</td>\n",
       "      <td>12.28</td>\n",
       "      <td>12.41</td>\n",
       "      <td>12.22</td>\n",
       "      <td>12.36</td>\n",
       "      <td>11.795148</td>\n",
       "      <td>31542500</td>\n",
       "    </tr>\n",
       "    <tr>\n",
       "      <th>1</th>\n",
       "      <td>2017-07-04</td>\n",
       "      <td>12.34</td>\n",
       "      <td>12.43</td>\n",
       "      <td>12.32</td>\n",
       "      <td>12.43</td>\n",
       "      <td>11.861949</td>\n",
       "      <td>12523500</td>\n",
       "    </tr>\n",
       "    <tr>\n",
       "      <th>2</th>\n",
       "      <td>2017-07-05</td>\n",
       "      <td>12.38</td>\n",
       "      <td>12.52</td>\n",
       "      <td>12.12</td>\n",
       "      <td>12.21</td>\n",
       "      <td>11.652003</td>\n",
       "      <td>41958400</td>\n",
       "    </tr>\n",
       "    <tr>\n",
       "      <th>3</th>\n",
       "      <td>2017-07-06</td>\n",
       "      <td>12.28</td>\n",
       "      <td>12.36</td>\n",
       "      <td>12.08</td>\n",
       "      <td>12.17</td>\n",
       "      <td>11.613831</td>\n",
       "      <td>51976900</td>\n",
       "    </tr>\n",
       "    <tr>\n",
       "      <th>4</th>\n",
       "      <td>2017-07-07</td>\n",
       "      <td>12.13</td>\n",
       "      <td>12.17</td>\n",
       "      <td>11.85</td>\n",
       "      <td>11.93</td>\n",
       "      <td>11.384799</td>\n",
       "      <td>42677000</td>\n",
       "    </tr>\n",
       "  </tbody>\n",
       "</table>\n",
       "</div>"
      ],
      "text/plain": [
       "         Date   Open   High    Low  Close   AdjClose    Volume\n",
       "0  2017-07-03  12.28  12.41  12.22  12.36  11.795148  31542500\n",
       "1  2017-07-04  12.34  12.43  12.32  12.43  11.861949  12523500\n",
       "2  2017-07-05  12.38  12.52  12.12  12.21  11.652003  41958400\n",
       "3  2017-07-06  12.28  12.36  12.08  12.17  11.613831  51976900\n",
       "4  2017-07-07  12.13  12.17  11.85  11.93  11.384799  42677000"
      ]
     },
     "execution_count": 2,
     "metadata": {},
     "output_type": "execute_result"
    }
   ],
   "source": [
    "#Lendo a base de dados da bolsa de valores da Petrobras de 2017\n",
    "petr = pd.read_csv(\"PETR4.csv\")\n",
    "petr.head()"
   ]
  },
  {
   "cell_type": "code",
   "execution_count": 3,
   "metadata": {},
   "outputs": [
    {
     "name": "stderr",
     "output_type": "stream",
     "text": [
      "C:\\Users\\RENATA~1.PAR\\AppData\\Local\\Temp/ipykernel_44040/3351695083.py:2: FutureWarning: In a future version of pandas all arguments of DataFrame.drop except for the argument 'labels' will be keyword-only.\n",
      "  petr = petr.drop('Volume',1)\n"
     ]
    }
   ],
   "source": [
    "#elimina ultima columa\n",
    "petr = petr.drop('Volume',1)"
   ]
  },
  {
   "cell_type": "code",
   "execution_count": 4,
   "metadata": {},
   "outputs": [
    {
     "data": {
      "text/html": [
       "<div>\n",
       "<style scoped>\n",
       "    .dataframe tbody tr th:only-of-type {\n",
       "        vertical-align: middle;\n",
       "    }\n",
       "\n",
       "    .dataframe tbody tr th {\n",
       "        vertical-align: top;\n",
       "    }\n",
       "\n",
       "    .dataframe thead th {\n",
       "        text-align: right;\n",
       "    }\n",
       "</style>\n",
       "<table border=\"1\" class=\"dataframe\">\n",
       "  <thead>\n",
       "    <tr style=\"text-align: right;\">\n",
       "      <th></th>\n",
       "      <th>Open</th>\n",
       "      <th>High</th>\n",
       "      <th>Low</th>\n",
       "      <th>Close</th>\n",
       "      <th>AdjClose</th>\n",
       "    </tr>\n",
       "  </thead>\n",
       "  <tbody>\n",
       "    <tr>\n",
       "      <th>count</th>\n",
       "      <td>499.000000</td>\n",
       "      <td>499.000000</td>\n",
       "      <td>499.000000</td>\n",
       "      <td>499.000000</td>\n",
       "      <td>499.000000</td>\n",
       "    </tr>\n",
       "    <tr>\n",
       "      <th>mean</th>\n",
       "      <td>20.827134</td>\n",
       "      <td>21.115250</td>\n",
       "      <td>20.516633</td>\n",
       "      <td>20.806032</td>\n",
       "      <td>20.164855</td>\n",
       "    </tr>\n",
       "    <tr>\n",
       "      <th>std</th>\n",
       "      <td>4.875028</td>\n",
       "      <td>4.930755</td>\n",
       "      <td>4.797126</td>\n",
       "      <td>4.864584</td>\n",
       "      <td>5.004659</td>\n",
       "    </tr>\n",
       "    <tr>\n",
       "      <th>min</th>\n",
       "      <td>11.830000</td>\n",
       "      <td>12.010000</td>\n",
       "      <td>11.740000</td>\n",
       "      <td>11.930000</td>\n",
       "      <td>11.384799</td>\n",
       "    </tr>\n",
       "    <tr>\n",
       "      <th>25%</th>\n",
       "      <td>16.190001</td>\n",
       "      <td>16.345000</td>\n",
       "      <td>16.059999</td>\n",
       "      <td>16.175000</td>\n",
       "      <td>15.450116</td>\n",
       "    </tr>\n",
       "    <tr>\n",
       "      <th>50%</th>\n",
       "      <td>20.590000</td>\n",
       "      <td>21.070000</td>\n",
       "      <td>20.250000</td>\n",
       "      <td>20.520000</td>\n",
       "      <td>19.582233</td>\n",
       "    </tr>\n",
       "    <tr>\n",
       "      <th>75%</th>\n",
       "      <td>25.755000</td>\n",
       "      <td>26.040001</td>\n",
       "      <td>25.330000</td>\n",
       "      <td>25.570000</td>\n",
       "      <td>25.044139</td>\n",
       "    </tr>\n",
       "    <tr>\n",
       "      <th>max</th>\n",
       "      <td>29.549999</td>\n",
       "      <td>29.600000</td>\n",
       "      <td>28.980000</td>\n",
       "      <td>29.250000</td>\n",
       "      <td>29.119148</td>\n",
       "    </tr>\n",
       "  </tbody>\n",
       "</table>\n",
       "</div>"
      ],
      "text/plain": [
       "             Open        High         Low       Close    AdjClose\n",
       "count  499.000000  499.000000  499.000000  499.000000  499.000000\n",
       "mean    20.827134   21.115250   20.516633   20.806032   20.164855\n",
       "std      4.875028    4.930755    4.797126    4.864584    5.004659\n",
       "min     11.830000   12.010000   11.740000   11.930000   11.384799\n",
       "25%     16.190001   16.345000   16.059999   16.175000   15.450116\n",
       "50%     20.590000   21.070000   20.250000   20.520000   19.582233\n",
       "75%     25.755000   26.040001   25.330000   25.570000   25.044139\n",
       "max     29.549999   29.600000   28.980000   29.250000   29.119148"
      ]
     },
     "execution_count": 4,
     "metadata": {},
     "output_type": "execute_result"
    }
   ],
   "source": [
    "#Estatísticas dos valores\n",
    "petr.describe()"
   ]
  },
  {
   "cell_type": "code",
   "execution_count": 5,
   "metadata": {},
   "outputs": [
    {
     "data": {
      "text/html": [
       "<div>\n",
       "<style scoped>\n",
       "    .dataframe tbody tr th:only-of-type {\n",
       "        vertical-align: middle;\n",
       "    }\n",
       "\n",
       "    .dataframe tbody tr th {\n",
       "        vertical-align: top;\n",
       "    }\n",
       "\n",
       "    .dataframe thead th {\n",
       "        text-align: right;\n",
       "    }\n",
       "</style>\n",
       "<table border=\"1\" class=\"dataframe\">\n",
       "  <thead>\n",
       "    <tr style=\"text-align: right;\">\n",
       "      <th></th>\n",
       "      <th>Open</th>\n",
       "      <th>High</th>\n",
       "      <th>Low</th>\n",
       "      <th>Close</th>\n",
       "      <th>AdjClose</th>\n",
       "    </tr>\n",
       "  </thead>\n",
       "  <tbody>\n",
       "    <tr>\n",
       "      <th>Open</th>\n",
       "      <td>1.000000</td>\n",
       "      <td>0.998343</td>\n",
       "      <td>0.997339</td>\n",
       "      <td>0.995384</td>\n",
       "      <td>0.993175</td>\n",
       "    </tr>\n",
       "    <tr>\n",
       "      <th>High</th>\n",
       "      <td>0.998343</td>\n",
       "      <td>1.000000</td>\n",
       "      <td>0.996881</td>\n",
       "      <td>0.997512</td>\n",
       "      <td>0.994625</td>\n",
       "    </tr>\n",
       "    <tr>\n",
       "      <th>Low</th>\n",
       "      <td>0.997339</td>\n",
       "      <td>0.996881</td>\n",
       "      <td>1.000000</td>\n",
       "      <td>0.998272</td>\n",
       "      <td>0.996730</td>\n",
       "    </tr>\n",
       "    <tr>\n",
       "      <th>Close</th>\n",
       "      <td>0.995384</td>\n",
       "      <td>0.997512</td>\n",
       "      <td>0.998272</td>\n",
       "      <td>1.000000</td>\n",
       "      <td>0.997904</td>\n",
       "    </tr>\n",
       "    <tr>\n",
       "      <th>AdjClose</th>\n",
       "      <td>0.993175</td>\n",
       "      <td>0.994625</td>\n",
       "      <td>0.996730</td>\n",
       "      <td>0.997904</td>\n",
       "      <td>1.000000</td>\n",
       "    </tr>\n",
       "  </tbody>\n",
       "</table>\n",
       "</div>"
      ],
      "text/plain": [
       "              Open      High       Low     Close  AdjClose\n",
       "Open      1.000000  0.998343  0.997339  0.995384  0.993175\n",
       "High      0.998343  1.000000  0.996881  0.997512  0.994625\n",
       "Low       0.997339  0.996881  1.000000  0.998272  0.996730\n",
       "Close     0.995384  0.997512  0.998272  1.000000  0.997904\n",
       "AdjClose  0.993175  0.994625  0.996730  0.997904  1.000000"
      ]
     },
     "execution_count": 5,
     "metadata": {},
     "output_type": "execute_result"
    }
   ],
   "source": [
    "petr.corr()"
   ]
  },
  {
   "cell_type": "code",
   "execution_count": 6,
   "metadata": {},
   "outputs": [
    {
     "data": {
      "text/plain": [
       "Text(0, 0.5, 'Close')"
      ]
     },
     "execution_count": 6,
     "metadata": {},
     "output_type": "execute_result"
    },
    {
     "data": {
      "image/png": "[encoded data removed]",
      "text/plain": [
       "<Figure size 648x432 with 1 Axes>"
      ]
     },
     "metadata": {
      "needs_background": "light"
     },
     "output_type": "display_data"
    }
   ],
   "source": [
    "figure = plt.figure(figsize=(9,6))\n",
    "plt.scatter(petr['Open'],petr['Close'])\n",
    "plt.xlabel('Open')\n",
    "plt.ylabel('Close')"
   ]
  },
  {
   "cell_type": "code",
   "execution_count": 7,
   "metadata": {},
   "outputs": [
    {
     "data": {
      "text/plain": [
       "Text(0, 0.5, 'Low')"
      ]
     },
     "execution_count": 7,
     "metadata": {},
     "output_type": "execute_result"
    },
    {
     "data": {
      "image/png": "[encoded data removed]",
      "text/plain": [
       "<Figure size 648x432 with 1 Axes>"
      ]
     },
     "metadata": {
      "needs_background": "light"
     },
     "output_type": "display_data"
    }
   ],
   "source": [
    "figure = plt.figure(figsize=(9,6))\n",
    "plt.scatter(petr['High'],petr['Low'])\n",
    "plt.xlabel('High')\n",
    "plt.ylabel('Low')"
   ]
  },
  {
   "cell_type": "code",
   "execution_count": 8,
   "metadata": {},
   "outputs": [],
   "source": [
    "#Create a numpy array with Open values as feature\n",
    "X = petr.iloc[:,1].values\n",
    "#Create a numpy array for classe Close\n",
    "y = petr.iloc[:,4].values"
   ]
  },
  {
   "cell_type": "code",
   "execution_count": 9,
   "metadata": {},
   "outputs": [
    {
     "data": {
      "text/plain": [
       "numpy.ndarray"
      ]
     },
     "execution_count": 9,
     "metadata": {},
     "output_type": "execute_result"
    }
   ],
   "source": [
    "type(X)"
   ]
  },
  {
   "cell_type": "code",
   "execution_count": 10,
   "metadata": {},
   "outputs": [
    {
     "name": "stdout",
     "output_type": "stream",
     "text": [
      "449\n",
      "50\n"
     ]
    }
   ],
   "source": [
    "from sklearn.model_selection import train_test_split\n",
    "X_train,X_test,y_train,y_test = train_test_split(X,y,test_size=0.10,random_state=1)\n",
    "print(len(X_train))\n",
    "print(len(X_test))"
   ]
  },
  {
   "cell_type": "code",
   "execution_count": 11,
   "metadata": {},
   "outputs": [
    {
     "data": {
      "text/plain": [
       "(449,)"
      ]
     },
     "execution_count": 11,
     "metadata": {},
     "output_type": "execute_result"
    }
   ],
   "source": [
    "X_train.shape"
   ]
  },
  {
   "cell_type": "code",
   "execution_count": 12,
   "metadata": {},
   "outputs": [
    {
     "data": {
      "text/plain": [
       "(449, 1)"
      ]
     },
     "execution_count": 12,
     "metadata": {},
     "output_type": "execute_result"
    }
   ],
   "source": [
    "#Reshape the train dataset to have a matrix instead of an array\n",
    "m = len(X_train)\n",
    "X_train = X_train.reshape(m,1)\n",
    "X_train.shape"
   ]
  },
  {
   "cell_type": "markdown",
   "metadata": {},
   "source": [
    "## Linear Regression \n",
    "![](https://lh3.googleusercontent.com/l75k9861ylydP17cz-gGPBO-WcbNcU9MqC5jrefpyE2tfvdZdehFdyTSfwpzuXM-Onvt5g=s170)"
   ]
  },
  {
   "cell_type": "code",
   "execution_count": 13,
   "metadata": {},
   "outputs": [],
   "source": [
    "from sklearn.linear_model import LinearRegression\n",
    "from sklearn.model_selection import cross_val_predict\n",
    "\n",
    "ln = LinearRegression()\n",
    "model = ln.fit(X_train,y_train)"
   ]
  },
  {
   "cell_type": "markdown",
   "metadata": {},
   "source": [
    "## Score\n",
    "Return the coefficient of determination  of the prediction.\n",
    "The coefficient  is defined as 1-(u/v), where u is the residual sum of squares ((y_true - y_pred) ** 2).sum() and v is the total sum of squares ((y_true - y_pred.mean()) ** 2).sum(). "
   ]
  },
  {
   "cell_type": "code",
   "execution_count": 14,
   "metadata": {},
   "outputs": [
    {
     "name": "stdout",
     "output_type": "stream",
     "text": [
      "score = 0.991068999267438\n",
      "alpha = 0.0771242102474119\n",
      "betas = [0.99545576]\n"
     ]
    }
   ],
   "source": [
    "print(f'score = {model.score(X_train,y_train)}')\n",
    "print(f'alpha = {model.intercept_}')\n",
    "print(f'betas = {model.coef_}')"
   ]
  },
  {
   "cell_type": "markdown",
   "metadata": {},
   "source": [
    "## Avaliação"
   ]
  },
  {
   "cell_type": "code",
   "execution_count": 15,
   "metadata": {},
   "outputs": [
    {
     "name": "stdout",
     "output_type": "stream",
     "text": [
      "Mean absolute error sklearn: 0.371\n"
     ]
    }
   ],
   "source": [
    "from sklearn.metrics import mean_absolute_error\n",
    "n=len(X_test)\n",
    "X_test = X_test.reshape(n,1)\n",
    "y_pred = ln.predict(X_test)\n",
    "\n",
    "print('Mean absolute error sklearn: %.3f' % mean_absolute_error(y_test,y_pred))"
   ]
  },
  {
   "cell_type": "code",
   "execution_count": 16,
   "metadata": {},
   "outputs": [
    {
     "data": {
      "image/png": "[encoded data removed]",
      "text/plain": [
       "<Figure size 864x432 with 1 Axes>"
      ]
     },
     "metadata": {
      "needs_background": "light"
     },
     "output_type": "display_data"
    }
   ],
   "source": [
    "#Plot regression against actual data\n",
    "plt.figure(figsize=(12,6))\n",
    "#regression line\n",
    "plt.plot(X_test,y_pred)\n",
    "#scatter plot showing actual data\n",
    "plt.plot(X_test,y_test,'ro')\n",
    "plt.title('Actal vs Predicted')\n",
    "plt.xlabel('Open')\n",
    "plt.ylabel('Close')\n",
    "\n",
    "plt.show()"
   ]
  },
  {
   "cell_type": "code",
   "execution_count": 17,
   "metadata": {},
   "outputs": [],
   "source": [
    "#Multiple Linear Regression\n",
    "#Create a np array with Open, High and Low values as feature\n",
    "X_new = petr.iloc[:,1:-2].values\n",
    "#Create a np array for Close values with is the target\n",
    "y = petr.iloc[:,4].values"
   ]
  },
  {
   "cell_type": "code",
   "execution_count": 18,
   "metadata": {},
   "outputs": [
    {
     "name": "stdout",
     "output_type": "stream",
     "text": [
      "449\n",
      "50\n"
     ]
    }
   ],
   "source": [
    "X_train,X_test,y_train,y_test = train_test_split(X_new,y,test_size=0.10,random_state=1)\n",
    "print(len(X_train))\n",
    "print(len(X_test))"
   ]
  },
  {
   "cell_type": "code",
   "execution_count": 19,
   "metadata": {},
   "outputs": [],
   "source": [
    "multiple_lr = LinearRegression()\n",
    "multi_model = multiple_lr.fit(X_train,y_train)"
   ]
  },
  {
   "cell_type": "code",
   "execution_count": 20,
   "metadata": {},
   "outputs": [],
   "source": [
    "np.savetxt(\"treino.txt\",X_train) "
   ]
  },
  {
   "cell_type": "markdown",
   "metadata": {},
   "source": [
    "## Score\n",
    "Return the coefficient of determination  of the prediction.\n",
    "The coefficient  is defined as 1-(u/v), where u is the residual sum of squares ((y_true - y_pred) ** 2).sum() and v is the total sum of squares ((y_true - y_true.mean()) ** 2).sum(). "
   ]
  },
  {
   "cell_type": "code",
   "execution_count": 21,
   "metadata": {},
   "outputs": [
    {
     "name": "stdout",
     "output_type": "stream",
     "text": [
      "score = 0.9987215806493019\n",
      "alpha = -0.02817270595385679\n",
      "betas = [-0.69888445  0.85351419  0.84674238]\n"
     ]
    }
   ],
   "source": [
    "print(f'score = {multi_model.score(X_train,y_train)}')\n",
    "print(f'alpha = {multi_model.intercept_}')\n",
    "print(f'betas = {multi_model.coef_}')"
   ]
  },
  {
   "cell_type": "markdown",
   "metadata": {},
   "source": [
    "## Avaliação"
   ]
  },
  {
   "cell_type": "code",
   "execution_count": 23,
   "metadata": {},
   "outputs": [
    {
     "name": "stdout",
     "output_type": "stream",
     "text": [
      "Mean absolute error sklearn: 0.147\n"
     ]
    }
   ],
   "source": [
    "y_pred_multi = multi_model.predict(X_test)\n",
    "print('Mean absolute error sklearn: %.3f' % mean_absolute_error(y_test,y_pred_multi))"
   ]
  },
  {
   "cell_type": "code",
   "execution_count": null,
   "metadata": {},
   "outputs": [],
   "source": []
  },
  {
   "cell_type": "code",
   "execution_count": null,
   "metadata": {},
   "outputs": [],
   "source": []
  }
 ],
 "metadata": {
  "kernelspec": {
   "display_name": "Python 3 (ipykernel)",
   "language": "python",
   "name": "python3"
  },
  "language_info": {
   "codemirror_mode": {
    "name": "ipython",
    "version": 3
   },
   "file_extension": ".py",
   "mimetype": "text/x-python",
   "name": "python",
   "nbconvert_exporter": "python",
   "pygments_lexer": "ipython3",
   "version": "3.8.5"
  }
 },
 "nbformat": 4,
 "nbformat_minor": 2
}

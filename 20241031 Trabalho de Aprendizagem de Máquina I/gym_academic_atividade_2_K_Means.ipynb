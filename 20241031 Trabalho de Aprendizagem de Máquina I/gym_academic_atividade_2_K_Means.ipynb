{
 "cells": [
  {
   "cell_type": "code",
   "execution_count": 1,
   "id": "b1965e18-260d-447a-97a2-9b61b2ca762c",
   "metadata": {},
   "outputs": [],
   "source": []
  },
  {
   "cell_type": "code",
   "execution_count": 22,
   "id": "67fa1903-541f-497c-930b-df5f06d2e8b6",
   "metadata": {},
   "outputs": [],
   "source": [
    "import pandas as pd\n",
    "from sklearn.preprocessing import StandardScaler\n",
    "from sklearn.cluster import KMeans\n",
    "import numpy as np\n",
    "import matplotlib.pyplot as plt"
   ]
  },
  {
   "cell_type": "code",
   "execution_count": 3,
   "id": "b539759a-029f-402f-8f79-8857242664c3",
   "metadata": {},
   "outputs": [],
   "source": [
    "# Carregar o dataset\n",
    "file_path = './Datasets/20241016 Gym Members Exercise Dataset/gym_members_exercise_tracking.csv'\n",
    "data = pd.read_csv(file_path)"
   ]
  },
  {
   "cell_type": "code",
   "execution_count": 4,
   "id": "a68636a1-c026-4ae9-8ff6-18a9600d2a7a",
   "metadata": {},
   "outputs": [
    {
     "data": {
      "text/html": [
       "<div>\n",
       "<style scoped>\n",
       "    .dataframe tbody tr th:only-of-type {\n",
       "        vertical-align: middle;\n",
       "    }\n",
       "\n",
       "    .dataframe tbody tr th {\n",
       "        vertical-align: top;\n",
       "    }\n",
       "\n",
       "    .dataframe thead th {\n",
       "        text-align: right;\n",
       "    }\n",
       "</style>\n",
       "<table border=\"1\" class=\"dataframe\">\n",
       "  <thead>\n",
       "    <tr style=\"text-align: right;\">\n",
       "      <th></th>\n",
       "      <th>Age</th>\n",
       "      <th>Gender</th>\n",
       "      <th>Weight (kg)</th>\n",
       "      <th>Height (m)</th>\n",
       "      <th>Max_BPM</th>\n",
       "      <th>Avg_BPM</th>\n",
       "      <th>Resting_BPM</th>\n",
       "      <th>Session_Duration (hours)</th>\n",
       "      <th>Calories_Burned</th>\n",
       "      <th>Workout_Type</th>\n",
       "      <th>Fat_Percentage</th>\n",
       "      <th>Water_Intake (liters)</th>\n",
       "      <th>Workout_Frequency (days/week)</th>\n",
       "      <th>Experience_Level</th>\n",
       "      <th>BMI</th>\n",
       "    </tr>\n",
       "  </thead>\n",
       "  <tbody>\n",
       "    <tr>\n",
       "      <th>0</th>\n",
       "      <td>56</td>\n",
       "      <td>Male</td>\n",
       "      <td>88.3</td>\n",
       "      <td>1.71</td>\n",
       "      <td>180</td>\n",
       "      <td>157</td>\n",
       "      <td>60</td>\n",
       "      <td>1.69</td>\n",
       "      <td>1313.0</td>\n",
       "      <td>Yoga</td>\n",
       "      <td>12.6</td>\n",
       "      <td>3.5</td>\n",
       "      <td>4</td>\n",
       "      <td>3</td>\n",
       "      <td>30.20</td>\n",
       "    </tr>\n",
       "    <tr>\n",
       "      <th>1</th>\n",
       "      <td>46</td>\n",
       "      <td>Female</td>\n",
       "      <td>74.9</td>\n",
       "      <td>1.53</td>\n",
       "      <td>179</td>\n",
       "      <td>151</td>\n",
       "      <td>66</td>\n",
       "      <td>1.30</td>\n",
       "      <td>883.0</td>\n",
       "      <td>HIIT</td>\n",
       "      <td>33.9</td>\n",
       "      <td>2.1</td>\n",
       "      <td>4</td>\n",
       "      <td>2</td>\n",
       "      <td>32.00</td>\n",
       "    </tr>\n",
       "    <tr>\n",
       "      <th>2</th>\n",
       "      <td>32</td>\n",
       "      <td>Female</td>\n",
       "      <td>68.1</td>\n",
       "      <td>1.66</td>\n",
       "      <td>167</td>\n",
       "      <td>122</td>\n",
       "      <td>54</td>\n",
       "      <td>1.11</td>\n",
       "      <td>677.0</td>\n",
       "      <td>Cardio</td>\n",
       "      <td>33.4</td>\n",
       "      <td>2.3</td>\n",
       "      <td>4</td>\n",
       "      <td>2</td>\n",
       "      <td>24.71</td>\n",
       "    </tr>\n",
       "    <tr>\n",
       "      <th>3</th>\n",
       "      <td>25</td>\n",
       "      <td>Male</td>\n",
       "      <td>53.2</td>\n",
       "      <td>1.70</td>\n",
       "      <td>190</td>\n",
       "      <td>164</td>\n",
       "      <td>56</td>\n",
       "      <td>0.59</td>\n",
       "      <td>532.0</td>\n",
       "      <td>Strength</td>\n",
       "      <td>28.8</td>\n",
       "      <td>2.1</td>\n",
       "      <td>3</td>\n",
       "      <td>1</td>\n",
       "      <td>18.41</td>\n",
       "    </tr>\n",
       "    <tr>\n",
       "      <th>4</th>\n",
       "      <td>38</td>\n",
       "      <td>Male</td>\n",
       "      <td>46.1</td>\n",
       "      <td>1.79</td>\n",
       "      <td>188</td>\n",
       "      <td>158</td>\n",
       "      <td>68</td>\n",
       "      <td>0.64</td>\n",
       "      <td>556.0</td>\n",
       "      <td>Strength</td>\n",
       "      <td>29.2</td>\n",
       "      <td>2.8</td>\n",
       "      <td>3</td>\n",
       "      <td>1</td>\n",
       "      <td>14.39</td>\n",
       "    </tr>\n",
       "  </tbody>\n",
       "</table>\n",
       "</div>"
      ],
      "text/plain": [
       "   Age  Gender  Weight (kg)  Height (m)  Max_BPM  Avg_BPM  Resting_BPM  \\\n",
       "0   56    Male         88.3        1.71      180      157           60   \n",
       "1   46  Female         74.9        1.53      179      151           66   \n",
       "2   32  Female         68.1        1.66      167      122           54   \n",
       "3   25    Male         53.2        1.70      190      164           56   \n",
       "4   38    Male         46.1        1.79      188      158           68   \n",
       "\n",
       "   Session_Duration (hours)  Calories_Burned Workout_Type  Fat_Percentage  \\\n",
       "0                      1.69           1313.0         Yoga            12.6   \n",
       "1                      1.30            883.0         HIIT            33.9   \n",
       "2                      1.11            677.0       Cardio            33.4   \n",
       "3                      0.59            532.0     Strength            28.8   \n",
       "4                      0.64            556.0     Strength            29.2   \n",
       "\n",
       "   Water_Intake (liters)  Workout_Frequency (days/week)  Experience_Level  \\\n",
       "0                    3.5                              4                 3   \n",
       "1                    2.1                              4                 2   \n",
       "2                    2.3                              4                 2   \n",
       "3                    2.1                              3                 1   \n",
       "4                    2.8                              3                 1   \n",
       "\n",
       "     BMI  \n",
       "0  30.20  \n",
       "1  32.00  \n",
       "2  24.71  \n",
       "3  18.41  \n",
       "4  14.39  "
      ]
     },
     "execution_count": 4,
     "metadata": {},
     "output_type": "execute_result"
    }
   ],
   "source": [
    "data.head()"
   ]
  },
  {
   "cell_type": "code",
   "execution_count": 5,
   "id": "42b5740a-7505-4ecc-83c1-15f4d5b36e6e",
   "metadata": {},
   "outputs": [],
   "source": [
    "# Para aplicar o K-means, serão selecionadas as colunas numéricas relevantes. \n",
    "# Será realizada a seleção e, em seguida, rodar o algoritmo para um intervalo de clusters de 2 a 20.\n",
    "# Seleção das colunas numéricas\n",
    "numeric_data = data.select_dtypes(include=[np.number])"
   ]
  },
  {
   "cell_type": "code",
   "execution_count": 6,
   "id": "e26b3f06-19ad-4ba9-bacd-88df1365306d",
   "metadata": {},
   "outputs": [],
   "source": [
    "# Padronização dos dados para melhorar o desempenho do K-means\n",
    "scaler = StandardScaler()\n",
    "data_scaled = scaler.fit_transform(numeric_data)"
   ]
  },
  {
   "cell_type": "code",
   "execution_count": 24,
   "id": "3c148cc3-742d-4980-a020-516f2c7b22bc",
   "metadata": {},
   "outputs": [],
   "source": [
    "# Configuração do intervalo de clusters\n",
    "k_range = range(2, 21)\n",
    "inertia_values = []"
   ]
  },
  {
   "cell_type": "code",
   "execution_count": 26,
   "id": "8f427511-f96b-4649-8621-0e0399ddc2c0",
   "metadata": {},
   "outputs": [],
   "source": [
    "# 4. Executar o K-means para cada valor de k e calcular o SSE\n",
    "for k in k_range:\n",
    "    kmeans = KMeans(n_clusters=k, random_state=0)  # Configurar o modelo com k clusters\n",
    "    kmeans.fit(data_scaled)  # Ajustar o modelo aos dados escalados\n",
    "    inertia_values.append(kmeans.inertia_)  # Armazenar o SSE (inércia) para o k atual"
   ]
  },
  {
   "cell_type": "code",
   "execution_count": 28,
   "id": "e2ca2465-af05-40d0-8360-763ec90f409e",
   "metadata": {},
   "outputs": [
    {
     "data": {
      "image/png": "[encoded data removed]",
      "text/plain": [
       "<Figure size 1000x600 with 1 Axes>"
      ]
     },
     "metadata": {},
     "output_type": "display_data"
    }
   ],
   "source": [
    "# Gerar o gráfico da curva do cotovelo\n",
    "plt.figure(figsize=(10, 6))\n",
    "plt.plot(k_range, inertia_values, marker='o')\n",
    "plt.xlabel('Número de Clusters (k)')\n",
    "plt.ylabel('SSE (Inércia)')\n",
    "plt.title('Curva do Cotovelo para K-means')\n",
    "plt.xticks(k_range)\n",
    "plt.grid(True)\n",
    "plt.show()"
   ]
  },
  {
   "cell_type": "code",
   "execution_count": 30,
   "id": "abe51436-e1f5-49a5-8eb0-b2303d0cc41d",
   "metadata": {},
   "outputs": [
    {
     "data": {
      "text/plain": [
       "2"
      ]
     },
     "execution_count": 30,
     "metadata": {},
     "output_type": "execute_result"
    }
   ],
   "source": [
    "# Analisando os valores de inércia e visualizando o ponto de cotovelo com uma abordagem mais quantitativa\n",
    "# para identificar o ponto onde a redução da inércia se estabiliza\n",
    "\n",
    "# Calculando as diferenças entre cada ponto de inércia consecutivo para observar a taxa de mudança\n",
    "differences = np.diff(inertia_values)\n",
    "\n",
    "# Para observar o ponto em que a mudança começa a diminuir, vamos buscar o maior decréscimo seguido de reduções menores\n",
    "elbow_point = np.argmin(differences) + 2  # Ajustando o índice para coincidir com o valor de k (2 é o ponto inicial)\n",
    "\n",
    "elbow_point"
   ]
  },
  {
   "cell_type": "code",
   "execution_count": null,
   "id": "17c5476b-8a70-4c97-920f-72be3436c863",
   "metadata": {},
   "outputs": [],
   "source": [
    "# O número ideal de clusters identificado pela análise quantitativa é 2. \n",
    "# Esse valor representa o ponto em que a redução no SSE (inércia) começa a desacelerar significativamente."
   ]
  },
  {
   "cell_type": "code",
   "execution_count": 32,
   "id": "b6c3c5a2-031b-44ea-b60d-2c171fe98975",
   "metadata": {},
   "outputs": [],
   "source": [
    "# 5. Fazer uma analise sobre a distribuição dos dados a partir dos agrupamentos gerados. \n",
    "# Verificar se o treinamento detectou algum padrão nos grupos. Em caso positivo, \n",
    "# descrever os padrões encontrados em cada grupo por meio dos dados mais representativos.\n",
    "numeric_data = data.select_dtypes(include=[np.number])\n"
   ]
  },
  {
   "cell_type": "code",
   "execution_count": 34,
   "id": "ffa590ab-1cff-42e6-a453-2c2faf55aa8d",
   "metadata": {},
   "outputs": [],
   "source": [
    "# Padronizar os dados para normalizar as variáveis\n",
    "scaler = StandardScaler()\n",
    "data_scaled = scaler.fit_transform(numeric_data)"
   ]
  },
  {
   "cell_type": "code",
   "execution_count": 36,
   "id": "f6181423-e288-44ed-8152-f37a69527364",
   "metadata": {},
   "outputs": [],
   "source": [
    "# Aplicar o K-means com o número ideal de clusters encontrado anteriormente (n_clusters=2)\n",
    "kmeans = KMeans(n_clusters=2, random_state=0)\n",
    "data['Cluster'] = kmeans.fit_predict(data_scaled)  # Adiciona a coluna 'Cluster' ao dataset original com o rótulo de cada grupo\n"
   ]
  },
  {
   "cell_type": "code",
   "execution_count": 42,
   "id": "a9c6886d-ceb4-4446-bca7-ac226cb1038c",
   "metadata": {},
   "outputs": [
    {
     "name": "stdout",
     "output_type": "stream",
     "text": [
      "Médias das variáveis em cada Cluster:\n",
      "                Age  Weight (kg)  Height (m)     Max_BPM     Avg_BPM  \\\n",
      "Cluster                                                               \n",
      "0        37.944444    74.214141    1.725909  180.207071  143.792929   \n",
      "1        38.872258    73.762839    1.721729  179.801290  143.760000   \n",
      "\n",
      "         Resting_BPM  Session_Duration (hours)  Calories_Burned  \\\n",
      "Cluster                                                           \n",
      "0          62.540404                  1.746263      1263.469697   \n",
      "1          62.141935                  1.131277       813.947097   \n",
      "\n",
      "         Fat_Percentage  Water_Intake (liters)  Workout_Frequency (days/week)  \\\n",
      "Cluster                                                                         \n",
      "0             15.051010               3.122222                       4.515152   \n",
      "1             27.512645               2.500000                       3.016774   \n",
      "\n",
      "         Experience_Level        BMI  Cluster  \n",
      "Cluster                                        \n",
      "0                2.964646  24.987071      0.0  \n",
      "1                1.514839  24.892981      1.0  \n"
     ]
    }
   ],
   "source": [
    "# Calcular as médias das variáveis para cada cluster\n",
    "# Isso nos permite identificar características representativas de cada grupo\n",
    "numeric_columns = data.select_dtypes(include=[np.number]).columns\n",
    "cluster_means = data[numeric_columns].groupby(data['Cluster']).mean()\n",
    "# Exibir as médias para cada cluster\n",
    "print(\"Médias das variáveis em cada Cluster:\\n\", cluster_means)"
   ]
  },
  {
   "cell_type": "code",
   "execution_count": 44,
   "id": "fbdb2f8b-fb75-49cb-b2b9-b9598822e13a",
   "metadata": {},
   "outputs": [
    {
     "data": {
      "image/png": "[encoded data removed]",
      "text/plain": [
       "<Figure size 1000x600 with 1 Axes>"
      ]
     },
     "metadata": {},
     "output_type": "display_data"
    }
   ],
   "source": [
    "# Análise detalhada dos clusters\n",
    "# Exemplo de um gráfico para ver a distribuição de uma variável nos clusters (Age)\n",
    "plt.figure(figsize=(10, 6))\n",
    "for cluster in data['Cluster'].unique():\n",
    "    plt.hist(data[data['Cluster'] == cluster]['Age'], alpha=0.5, label=f'Cluster {cluster}')\n",
    "plt.xlabel('Idade')\n",
    "plt.ylabel('Frequência')\n",
    "plt.title('Distribuição da Idade por Cluster')\n",
    "plt.legend()\n",
    "plt.show()"
   ]
  }
 ],
 "metadata": {
  "kernelspec": {
   "display_name": "Python 3 (ipykernel)",
   "language": "python",
   "name": "python3"
  },
  "language_info": {
   "codemirror_mode": {
    "name": "ipython",
    "version": 3
   },
   "file_extension": ".py",
   "mimetype": "text/x-python",
   "name": "python",
   "nbconvert_exporter": "python",
   "pygments_lexer": "ipython3",
   "version": "3.11.5"
  }
 },
 "nbformat": 4,
 "nbformat_minor": 5
}

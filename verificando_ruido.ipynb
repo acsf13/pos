{
 "cells": [
  {
   "cell_type": "code",
   "execution_count": 1,
   "id": "bb81a4fa",
   "metadata": {},
   "outputs": [],
   "source": [
    "import pandas as pd\n",
    "import numpy as np\n",
    "import matplotlib.pyplot as plt"
   ]
  },
  {
   "cell_type": "code",
   "execution_count": 2,
   "id": "944100a0",
   "metadata": {},
   "outputs": [],
   "source": [
    "# Exemplo de criação de um dataset\n",
    "data = {'Feature1': [1, 2, 3, 4, 100], 'Feature2': [2, 3, 4, 5, 200]}\n",
    "df = pd.DataFrame(data)"
   ]
  },
  {
   "cell_type": "code",
   "execution_count": 3,
   "id": "3146d932",
   "metadata": {},
   "outputs": [
    {
     "name": "stdout",
     "output_type": "stream",
     "text": [
      "Dataset:\n",
      "    Feature1  Feature2\n",
      "0         1         2\n",
      "1         2         3\n",
      "2         3         4\n",
      "3         4         5\n",
      "4       100       200\n"
     ]
    }
   ],
   "source": [
    "# Visualizando o dataset\n",
    "print(\"Dataset:\\n\", df)"
   ]
  },
  {
   "cell_type": "code",
   "execution_count": null,
   "id": "93a81252",
   "metadata": {},
   "outputs": [],
   "source": [
    "# Detectando outliers usando o Z-score\n",
    "df['Z_Score_Feature1'] = (df['Feature1'] - df['Feature1'].mean()) / df['Feature1'].std()\n",
    "df['Z_Score_Feature2'] = (df['Feature2'] - df['Feature2'].mean()) / df['Feature2'].std()\n"
   ]
  },
  {
   "cell_type": "code",
   "execution_count": 5,
   "id": "2277fe02",
   "metadata": {},
   "outputs": [
    {
     "name": "stdout",
     "output_type": "stream",
     "text": [
      "\n",
      "Z-Scores:\n",
      "    Z_Score_Feature1  Z_Score_Feature2\n",
      "0         -0.481456         -0.464245\n",
      "1         -0.458530         -0.452867\n",
      "2         -0.435603         -0.441488\n",
      "3         -0.412677         -0.430110\n",
      "4          1.788267          1.788710\n"
     ]
    }
   ],
   "source": [
    "# Exibindo os Z-scores\n",
    "print(\"\\nZ-Scores:\\n\", df[['Z_Score_Feature1', 'Z_Score_Feature2']])"
   ]
  },
  {
   "cell_type": "code",
   "execution_count": 6,
   "id": "206ac802",
   "metadata": {},
   "outputs": [],
   "source": [
    "# Definindo um limiar para identificar outliers (ex. Z-score maior que 3 ou menor que -3)\n",
    "threshold = 3\n",
    "outliers = df[(df['Z_Score_Feature1'].abs() > threshold) | (df['Z_Score_Feature2'].abs() > threshold)]"
   ]
  },
  {
   "cell_type": "code",
   "execution_count": 7,
   "id": "e7351f79",
   "metadata": {},
   "outputs": [
    {
     "name": "stdout",
     "output_type": "stream",
     "text": [
      "\n",
      "Outliers:\n",
      " Empty DataFrame\n",
      "Columns: [Feature1, Feature2, Z_Score_Feature1, Z_Score_Feature2]\n",
      "Index: []\n"
     ]
    }
   ],
   "source": [
    "# Exibindo os outliers\n",
    "print(\"\\nOutliers:\\n\", outliers)"
   ]
  },
  {
   "cell_type": "code",
   "execution_count": 8,
   "id": "5d0a7445",
   "metadata": {},
   "outputs": [
    {
     "data": {
      "image/png": "[encoded data removed]",
      "text/plain": [
       "<Figure size 640x480 with 1 Axes>"
      ]
     },
     "metadata": {},
     "output_type": "display_data"
    }
   ],
   "source": [
    "# Visualizando os outliers\n",
    "plt.scatter(df.index, df['Feature1'], label='Feature1')\n",
    "plt.scatter(df.index, df['Feature2'], label='Feature2')\n",
    "plt.scatter(outliers.index, outliers['Feature1'], color='red', label='Outliers Feature1')\n",
    "plt.scatter(outliers.index, outliers['Feature2'], color='orange', label='Outliers Feature2')\n",
    "plt.legend()\n",
    "plt.show()"
   ]
  },
  {
   "cell_type": "code",
   "execution_count": null,
   "id": "03d988b4",
   "metadata": {},
   "outputs": [],
   "source": [
    "Esse código cria um dataset com duas features, \n",
    "calcula o Z-score para cada valor e identifica os outliers com base em um limiar definido. \n",
    "Os outliers são então visualizados em um gráfico de dispersão.\n",
    "\n",
    "Se você estiver lidando com um dataset maior ou mais complexo, \n",
    "pode considerar usar outras técnicas, \n",
    "como algoritmos de clustering (ex. DBSCAN) ou análise de componentes principais (PCA) para identificar e tratar ruídos. \n"
   ]
  }
 ],
 "metadata": {
  "kernelspec": {
   "display_name": "Python 3",
   "language": "python",
   "name": "python3"
  },
  "language_info": {
   "codemirror_mode": {
    "name": "ipython",
    "version": 3
   },
   "file_extension": ".py",
   "mimetype": "text/x-python",
   "name": "python",
   "nbconvert_exporter": "python",
   "pygments_lexer": "ipython3",
   "version": "3.12.2"
  }
 },
 "nbformat": 4,
 "nbformat_minor": 5
}
